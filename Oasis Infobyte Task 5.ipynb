{
 "cells": [
  {
   "cell_type": "markdown",
   "id": "b0347358",
   "metadata": {},
   "source": [
    "# Oasis Infobyte Data Science Internship"
   ]
  },
  {
   "cell_type": "markdown",
   "id": "367f55c2",
   "metadata": {},
   "source": [
    "# Task 5:Sales prediction Using Python"
   ]
  },
  {
   "cell_type": "markdown",
   "id": "3ab16990",
   "metadata": {},
   "source": [
    "step 1: importing required librabies"
   ]
  },
  {
   "cell_type": "code",
   "execution_count": 1,
   "id": "35fcdbd1",
   "metadata": {},
   "outputs": [],
   "source": [
    "import pandas as pd\n",
    "import numpy as np\n",
    "import matplotlib.pyplot as plt\n",
    "import scipy as sc\n",
    "import seaborn as sns"
   ]
  },
  {
   "cell_type": "code",
   "execution_count": 3,
   "id": "1763027f",
   "metadata": {},
   "outputs": [
    {
     "data": {
      "text/html": [
       "<div>\n",
       "<style scoped>\n",
       "    .dataframe tbody tr th:only-of-type {\n",
       "        vertical-align: middle;\n",
       "    }\n",
       "\n",
       "    .dataframe tbody tr th {\n",
       "        vertical-align: top;\n",
       "    }\n",
       "\n",
       "    .dataframe thead th {\n",
       "        text-align: right;\n",
       "    }\n",
       "</style>\n",
       "<table border=\"1\" class=\"dataframe\">\n",
       "  <thead>\n",
       "    <tr style=\"text-align: right;\">\n",
       "      <th></th>\n",
       "      <th>Unnamed: 0</th>\n",
       "      <th>TV</th>\n",
       "      <th>Radio</th>\n",
       "      <th>Newspaper</th>\n",
       "      <th>Sales</th>\n",
       "    </tr>\n",
       "  </thead>\n",
       "  <tbody>\n",
       "    <tr>\n",
       "      <th>0</th>\n",
       "      <td>1</td>\n",
       "      <td>230.1</td>\n",
       "      <td>37.8</td>\n",
       "      <td>69.2</td>\n",
       "      <td>22.1</td>\n",
       "    </tr>\n",
       "    <tr>\n",
       "      <th>1</th>\n",
       "      <td>2</td>\n",
       "      <td>44.5</td>\n",
       "      <td>39.3</td>\n",
       "      <td>45.1</td>\n",
       "      <td>10.4</td>\n",
       "    </tr>\n",
       "    <tr>\n",
       "      <th>2</th>\n",
       "      <td>3</td>\n",
       "      <td>17.2</td>\n",
       "      <td>45.9</td>\n",
       "      <td>69.3</td>\n",
       "      <td>9.3</td>\n",
       "    </tr>\n",
       "    <tr>\n",
       "      <th>3</th>\n",
       "      <td>4</td>\n",
       "      <td>151.5</td>\n",
       "      <td>41.3</td>\n",
       "      <td>58.5</td>\n",
       "      <td>18.5</td>\n",
       "    </tr>\n",
       "    <tr>\n",
       "      <th>4</th>\n",
       "      <td>5</td>\n",
       "      <td>180.8</td>\n",
       "      <td>10.8</td>\n",
       "      <td>58.4</td>\n",
       "      <td>12.9</td>\n",
       "    </tr>\n",
       "    <tr>\n",
       "      <th>...</th>\n",
       "      <td>...</td>\n",
       "      <td>...</td>\n",
       "      <td>...</td>\n",
       "      <td>...</td>\n",
       "      <td>...</td>\n",
       "    </tr>\n",
       "    <tr>\n",
       "      <th>195</th>\n",
       "      <td>196</td>\n",
       "      <td>38.2</td>\n",
       "      <td>3.7</td>\n",
       "      <td>13.8</td>\n",
       "      <td>7.6</td>\n",
       "    </tr>\n",
       "    <tr>\n",
       "      <th>196</th>\n",
       "      <td>197</td>\n",
       "      <td>94.2</td>\n",
       "      <td>4.9</td>\n",
       "      <td>8.1</td>\n",
       "      <td>9.7</td>\n",
       "    </tr>\n",
       "    <tr>\n",
       "      <th>197</th>\n",
       "      <td>198</td>\n",
       "      <td>177.0</td>\n",
       "      <td>9.3</td>\n",
       "      <td>6.4</td>\n",
       "      <td>12.8</td>\n",
       "    </tr>\n",
       "    <tr>\n",
       "      <th>198</th>\n",
       "      <td>199</td>\n",
       "      <td>283.6</td>\n",
       "      <td>42.0</td>\n",
       "      <td>66.2</td>\n",
       "      <td>25.5</td>\n",
       "    </tr>\n",
       "    <tr>\n",
       "      <th>199</th>\n",
       "      <td>200</td>\n",
       "      <td>232.1</td>\n",
       "      <td>8.6</td>\n",
       "      <td>8.7</td>\n",
       "      <td>13.4</td>\n",
       "    </tr>\n",
       "  </tbody>\n",
       "</table>\n",
       "<p>200 rows × 5 columns</p>\n",
       "</div>"
      ],
      "text/plain": [
       "     Unnamed: 0     TV  Radio  Newspaper  Sales\n",
       "0             1  230.1   37.8       69.2   22.1\n",
       "1             2   44.5   39.3       45.1   10.4\n",
       "2             3   17.2   45.9       69.3    9.3\n",
       "3             4  151.5   41.3       58.5   18.5\n",
       "4             5  180.8   10.8       58.4   12.9\n",
       "..          ...    ...    ...        ...    ...\n",
       "195         196   38.2    3.7       13.8    7.6\n",
       "196         197   94.2    4.9        8.1    9.7\n",
       "197         198  177.0    9.3        6.4   12.8\n",
       "198         199  283.6   42.0       66.2   25.5\n",
       "199         200  232.1    8.6        8.7   13.4\n",
       "\n",
       "[200 rows x 5 columns]"
      ]
     },
     "execution_count": 3,
     "metadata": {},
     "output_type": "execute_result"
    }
   ],
   "source": [
    "df = pd.read_csv(r\"C:\\Users\\surya\\Downloads\\Advertising.csv\")\n",
    "df"
   ]
  },
  {
   "cell_type": "code",
   "execution_count": 5,
   "id": "ce2516c8",
   "metadata": {},
   "outputs": [
    {
     "name": "stdout",
     "output_type": "stream",
     "text": [
      "Unnamed: 0    0\n",
      "TV            0\n",
      "Radio         0\n",
      "Newspaper     0\n",
      "Sales         0\n",
      "dtype: int64\n"
     ]
    }
   ],
   "source": [
    "#checking for missing values\n",
    "print(df.isna().sum())"
   ]
  },
  {
   "cell_type": "code",
   "execution_count": 18,
   "id": "235ec0bc",
   "metadata": {},
   "outputs": [],
   "source": [
    "#removing duplicates if any\n",
    "df = df.drop_duplicates()\n",
    "df.duplicated().sum()\n",
    "df.drop(['Unnamed: 0'],axis=1,inplace=True)"
   ]
  },
  {
   "cell_type": "code",
   "execution_count": 7,
   "id": "4c60fa70",
   "metadata": {},
   "outputs": [
    {
     "data": {
      "text/plain": [
       "<bound method DataFrame.info of      Unnamed: 0     TV  Radio  Newspaper  Sales\n",
       "0             1  230.1   37.8       69.2   22.1\n",
       "1             2   44.5   39.3       45.1   10.4\n",
       "2             3   17.2   45.9       69.3    9.3\n",
       "3             4  151.5   41.3       58.5   18.5\n",
       "4             5  180.8   10.8       58.4   12.9\n",
       "..          ...    ...    ...        ...    ...\n",
       "195         196   38.2    3.7       13.8    7.6\n",
       "196         197   94.2    4.9        8.1    9.7\n",
       "197         198  177.0    9.3        6.4   12.8\n",
       "198         199  283.6   42.0       66.2   25.5\n",
       "199         200  232.1    8.6        8.7   13.4\n",
       "\n",
       "[200 rows x 5 columns]>"
      ]
     },
     "execution_count": 7,
     "metadata": {},
     "output_type": "execute_result"
    }
   ],
   "source": [
    "df.info"
   ]
  },
  {
   "cell_type": "code",
   "execution_count": 8,
   "id": "ac301788",
   "metadata": {},
   "outputs": [
    {
     "data": {
      "text/plain": [
       "9.7     5\n",
       "11.7    4\n",
       "12.9    4\n",
       "15.9    4\n",
       "20.7    3\n",
       "       ..\n",
       "17.0    1\n",
       "18.3    1\n",
       "22.3    1\n",
       "14.0    1\n",
       "25.5    1\n",
       "Name: Sales, Length: 121, dtype: int64"
      ]
     },
     "execution_count": 8,
     "metadata": {},
     "output_type": "execute_result"
    }
   ],
   "source": [
    "df['Sales'].value_counts()"
   ]
  },
  {
   "cell_type": "code",
   "execution_count": 19,
   "id": "9174db80",
   "metadata": {},
   "outputs": [
    {
     "name": "stderr",
     "output_type": "stream",
     "text": [
      "C:\\Users\\surya\\anaconda3\\lib\\site-packages\\seaborn\\_decorators.py:36: FutureWarning: Pass the following variable as a keyword arg: x. From version 0.12, the only valid positional argument will be `data`, and passing other arguments without an explicit keyword will result in an error or misinterpretation.\n",
      "  warnings.warn(\n"
     ]
    },
    {
     "data": {
      "image/png": "[encoded data removed]",
      "text/plain": [
       "<Figure size 432x288 with 1 Axes>"
      ]
     },
     "metadata": {
      "needs_background": "light"
     },
     "output_type": "display_data"
    }
   ],
   "source": [
    "sns.countplot(df['Sales']);"
   ]
  },
  {
   "cell_type": "code",
   "execution_count": 21,
   "id": "48f14fe7",
   "metadata": {},
   "outputs": [
    {
     "data": {
      "image/png": "[encoded data removed]",
      "text/plain": [
       "<Figure size 720x720 with 4 Axes>"
      ]
     },
     "metadata": {
      "needs_background": "light"
     },
     "output_type": "display_data"
    }
   ],
   "source": [
    "df.hist( bins = 10, figsize = (10,10),color = 'blue')\n",
    "plt.show()"
   ]
  },
  {
   "cell_type": "code",
   "execution_count": 22,
   "id": "870759aa",
   "metadata": {},
   "outputs": [
    {
     "data": {
      "text/plain": [
       "<AxesSubplot:>"
      ]
     },
     "execution_count": 22,
     "metadata": {},
     "output_type": "execute_result"
    },
    {
     "data": {
      "image/png": "[encoded data removed]",
      "text/plain": [
       "<Figure size 432x288 with 2 Axes>"
      ]
     },
     "metadata": {
      "needs_background": "light"
     },
     "output_type": "display_data"
    }
   ],
   "source": [
    "sns.heatmap(df.corr(),annot= True)"
   ]
  },
  {
   "cell_type": "code",
   "execution_count": 23,
   "id": "70df06d9",
   "metadata": {},
   "outputs": [],
   "source": [
    "# Performing Multiple linear regression\n",
    "from sklearn.linear_model import LinearRegression\n",
    "from sklearn.model_selection import train_test_split\n",
    "features = ['TV','Radio']\n",
    "X = df[features]\n",
    "y = df['Sales']"
   ]
  },
  {
   "cell_type": "code",
   "execution_count": 24,
   "id": "da90df0c",
   "metadata": {},
   "outputs": [],
   "source": [
    "model = LinearRegression()\n",
    "model = model.fit(X,y)"
   ]
  },
  {
   "cell_type": "code",
   "execution_count": 25,
   "id": "fe326be2",
   "metadata": {},
   "outputs": [
    {
     "name": "stdout",
     "output_type": "stream",
     "text": [
      "Predicted response: [20.55546463 12.34536229 12.33701773 17.61711596 13.22390813 12.51208449\n",
      " 11.71821241 12.10551553  3.7093792  12.55169696  7.0358597  17.25652015\n",
      " 10.60866187  8.81095051 18.44466773 20.82891539 12.90386507 23.24107626\n",
      "  9.94121476 14.15384619 18.12139161 14.74206357  6.51417168 16.54402663\n",
      "  8.14035215 15.6080206  14.96769383 17.0463346  19.39954145  9.15929748\n",
      " 21.64292187 11.35791808  7.65045928 18.83346334  7.56302763 16.99280099\n",
      " 23.36720719 15.6258994   9.91257829 20.4405801  16.37872122 17.29870935\n",
      " 21.5621537  13.96692266  8.9009974  15.16263814  8.88644967 21.69944046\n",
      " 16.28690268  8.18162949 12.64569407  9.31962792 20.66180115 19.96126242\n",
      " 20.35512357 21.30864743  8.53774783 12.76239488 21.89072858 18.10746914\n",
      "  5.74497097 22.90418658 16.78413768 13.18474853 16.96570907  7.82652846\n",
      "  8.98703456 12.02066194 18.95313425 21.09369037 17.78350693 10.63329605\n",
      " 10.35113844  9.91334008 17.30983543 11.90970399  4.48014809 13.79239059\n",
      "  8.78920329  9.67621401 11.43621364 14.6638809  10.18272029 14.41647235\n",
      " 20.77350468 15.22002396 11.58203354 15.61872354 11.75510286 16.93110264\n",
      "  9.98714329  4.51167896 19.17972975 21.26277229 10.46708623 16.33347878\n",
      " 12.62023117 15.32904398 24.12842563 16.94651016 13.90534597 23.30701753\n",
      " 17.64034079 14.75193037 20.26809884 17.95362103  6.13290678  7.11373347\n",
      "  3.59568568 19.66392439 14.79408982 21.12381933 13.85533202 16.38399023\n",
      " 15.29725626 12.93708446 11.97848762  6.56716317 15.60946713  6.81665095\n",
      " 14.42450056  7.86076515 13.62136464 15.05811789 19.4940435   9.12925166\n",
      " 10.59096289  6.59063608 22.21260278  7.90401761 10.39769966 15.60046013\n",
      "  8.41888332 19.27581486 11.86602974 13.96678613 11.42419802 20.87722595\n",
      "  9.75760743 19.63411177  9.47540519 18.43880322 19.25144497  8.77862066\n",
      " 10.10502768  9.6976895  15.27918887 23.26038805 12.23595022  9.81659119\n",
      " 18.37759626 10.03658404 16.34251686 18.22227054 15.48053237  5.28942768\n",
      " 15.39522591 10.01956371 10.39341821 12.40610283 14.21650102 13.57248088\n",
      " 14.94400258 17.32019972 11.04707937 14.28978442 10.80869402 13.36076565\n",
      " 17.21335083 17.92193265  7.3895737  14.37684633  7.59657824 11.96096978\n",
      " 13.73615116 24.7835259  19.96402163 12.17492441 16.01384397 12.37803956\n",
      " 10.57508895 13.93369584  6.56408761 24.16393648 18.53794901 20.77937663\n",
      "  9.69868449 17.06027938 18.62009678  6.0514451  12.45497782  8.4059261\n",
      "  4.47885906 18.44876059 16.4631902   5.36451249  8.15237521 12.76804849\n",
      " 23.79292299 15.15754285]\n"
     ]
    }
   ],
   "source": [
    "Y_Pred = model.predict(X)\n",
    "print('Predicted response:', Y_Pred)"
   ]
  },
  {
   "cell_type": "code",
   "execution_count": 33,
   "id": "16a3f1fb",
   "metadata": {},
   "outputs": [
    {
     "name": "stdout",
     "output_type": "stream",
     "text": [
      "[82.19677545]\n"
     ]
    },
    {
     "name": "stderr",
     "output_type": "stream",
     "text": [
      "C:\\Users\\surya\\anaconda3\\lib\\site-packages\\sklearn\\base.py:450: UserWarning: X does not have valid feature names, but LinearRegression was fitted with feature names\n",
      "  warnings.warn(\n"
     ]
    }
   ],
   "source": [
    "new_x = [[500,300]]\n",
    "print(model.predict(new_x))"
   ]
  },
  {
   "cell_type": "markdown",
   "id": "e118a48d",
   "metadata": {},
   "source": [
    "The above output suggests that if we invest 500 on TV and 300 on Radio advertising we can expect to sell 82 units."
   ]
  },
  {
   "cell_type": "markdown",
   "id": "6d275931",
   "metadata": {},
   "source": [
    "# Thank you !!!"
   ]
  },
  {
   "cell_type": "code",
   "execution_count": null,
   "id": "6a95f8a3",
   "metadata": {},
   "outputs": [],
   "source": []
  }
 ],
 "metadata": {
  "kernelspec": {
   "display_name": "Python 3 (ipykernel)",
   "language": "python",
   "name": "python3"
  },
  "language_info": {
   "codemirror_mode": {
    "name": "ipython",
    "version": 3
   },
   "file_extension": ".py",
   "mimetype": "text/x-python",
   "name": "python",
   "nbconvert_exporter": "python",
   "pygments_lexer": "ipython3",
   "version": "3.9.12"
  }
 },
 "nbformat": 4,
 "nbformat_minor": 5
}
